{
 "cells": [
  {
   "cell_type": "markdown",
   "metadata": {},
   "source": [
    "PART 1"
   ]
  },
  {
   "cell_type": "code",
   "execution_count": 57,
   "metadata": {},
   "outputs": [],
   "source": [
    "import re\n",
    "\n",
    "\n",
    "def preprocess(inp: str) -> list:\n",
    "    inp = inp.split(\"\\n\")\n",
    "    seeds = {\"seeds\": extract_d(inp[0])}\n",
    "    maps = {}\n",
    "    current_key = None\n",
    "    for row in inp:\n",
    "        if row.endswith(\"map:\"):\n",
    "            current_key = row\n",
    "            maps[current_key] = []\n",
    "            continue\n",
    "        if current_key and row != \"\":\n",
    "            row = [extract_d(i) for i in row.split(\",\")]\n",
    "            row = [to_spans(i) for i in row]\n",
    "            maps[current_key].extend(row)\n",
    "    return seeds, maps\n",
    "\n",
    "def extract_d(inp:str) -> list[int]:\n",
    "    return [int(i) for i in re.findall(r\"\\d+\", inp)]\n",
    "\n",
    "def to_spans(row):\n",
    "    row[0] = (row[0], row[0] + row[2])\n",
    "    row[1] = (row[1], row[1] + row[2])\n",
    "    del row[2]\n",
    "    return row\n"
   ]
  },
  {
   "cell_type": "code",
   "execution_count": 94,
   "metadata": {},
   "outputs": [],
   "source": [
    "def map_seeds(seeds: list[int], maps: dict) -> list[int]:\n",
    "    locations = []\n",
    "    for seed in seeds:\n",
    "        # print(\"\\n\")\n",
    "        for map in maps.values():\n",
    "            for row in map:\n",
    "                p = position_in_span(row[1], seed)\n",
    "                #print(f'Val {seed} pos in {row[1]} is {p}')\n",
    "                if p is None:\n",
    "                    continue\n",
    "                seed = row[0][0] + p\n",
    "                #print(f'Mapped to value {row[0][0]} + {p} = {seed}')\n",
    "                break\n",
    "        locations.append(seed)\n",
    "    return locations\n",
    "\n",
    "def position_in_span(span: tuple[int], i) -> [bool, int]:\n",
    "    if i < span[0] or i > span[1]:\n",
    "        return None\n",
    "    return i - span[0]\n",
    "    "
   ]
  },
  {
   "cell_type": "code",
   "execution_count": 95,
   "metadata": {},
   "outputs": [
    {
     "name": "stdout",
     "output_type": "stream",
     "text": [
      "31599214\n"
     ]
    }
   ],
   "source": [
    "with open('day05_input.txt', 'r') as f:\n",
    "    file = f.read()\n",
    "    s, m = preprocess(file)\n",
    "    print(min(map_seeds(s['seeds'], m)))"
   ]
  },
  {
   "cell_type": "markdown",
   "metadata": {},
   "source": [
    "PART 2 - Hope this can be brute forced\n",
    "\n",
    "edit: it can not"
   ]
  },
  {
   "cell_type": "code",
   "execution_count": 105,
   "metadata": {},
   "outputs": [],
   "source": [
    "def expand_seed_ranges(seed_ranges: list[int]) -> list[int]:\n",
    "    out = []\n",
    "    for i in list(range(len(seed_ranges)))[::2]:\n",
    "        start = seed_ranges[i]\n",
    "        end = start + seed_ranges[i+1]\n",
    "        out.extend(list(range(start, end)))\n",
    "    print(f\"total of {len(out)} seeds\")\n",
    "    return out"
   ]
  },
  {
   "cell_type": "code",
   "execution_count": 106,
   "metadata": {},
   "outputs": [],
   "source": [
    "with open('day05_input.txt', 'r') as f:\n",
    "    file = f.read()\n",
    "    s, m = preprocess(file)\n",
    "    s['seeds'] = expand_seed_ranges(s['seeds'])\n",
    "    print(min(map_seeds(s['seeds'], m)))"
   ]
  },
  {
   "cell_type": "markdown",
   "metadata": {},
   "source": [
    "LEARNINGS:\n",
    "\n",
    "- Better awareness of inplace operations\n",
    "\n",
    "WRONG:\n",
    "\n",
    "```out[current_key] = out.get(current_key).append(row)```\n",
    "\n",
    "OK:\n",
    "\n",
    "```out[current_key].append(row)```\n",
    "\n",
    "- Ensuring early exit from loop on condition completion"
   ]
  },
  {
   "cell_type": "markdown",
   "metadata": {},
   "source": []
  }
 ],
 "metadata": {
  "kernelspec": {
   "display_name": "scraping",
   "language": "python",
   "name": "python3"
  },
  "language_info": {
   "codemirror_mode": {
    "name": "ipython",
    "version": 3
   },
   "file_extension": ".py",
   "mimetype": "text/x-python",
   "name": "python",
   "nbconvert_exporter": "python",
   "pygments_lexer": "ipython3",
   "version": "3.11.5"
  }
 },
 "nbformat": 4,
 "nbformat_minor": 2
}
