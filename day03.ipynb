{
 "cells": [
  {
   "cell_type": "markdown",
   "metadata": {},
   "source": [
    "PART 1"
   ]
  },
  {
   "cell_type": "code",
   "execution_count": 43,
   "metadata": {},
   "outputs": [],
   "source": [
    "import re\n",
    "\n",
    "\n",
    "def get_surrounding_chars(input, i, span, row_len) -> dict:\n",
    "    locs = {}\n",
    "    locs['top_bot'] = (\n",
    "        max(span[0]-1, 0),\n",
    "        min(span[1]+1, row_len)\n",
    "    )\n",
    "    locs['current'] = [\n",
    "        (max(span[0]-1, 0),\n",
    "         span[0]),\n",
    "        (span[1],\n",
    "         min(span[1]+1, row_len))\n",
    "    ]\n",
    "    test_str = \"\"\n",
    "    if i >= 1:\n",
    "        row_below = input[i-1]\n",
    "        test_str += row_below[locs['top_bot'][0]: locs['top_bot'][1]]\n",
    "    \n",
    "    if i+1 < len(input):\n",
    "        row_below = input[i+1]\n",
    "        test_str += row_below[locs['top_bot'][0]: locs['top_bot'][1]]\n",
    "\n",
    "    for rng in locs['current']:\n",
    "        test_str += input[i][rng[0]: rng[1]]\n",
    "    \n",
    "    return test_str\n",
    "\n",
    "def get_schematic_sum(input: str) -> int:\n",
    "    input = input.split('\\n')\n",
    "    row_len = len(input[0])\n",
    "    total = 0\n",
    "    for i, j in enumerate(input):\n",
    "        for m in re.finditer(r\"\\d+\", j):\n",
    "            test_str = get_surrounding_chars(input, i, m.span(), row_len)\n",
    "            if re.search(r\"[^\\.\\d]\", test_str):\n",
    "                total += int(m.group())\n",
    "\n",
    "    return total"
   ]
  },
  {
   "cell_type": "code",
   "execution_count": 41,
   "metadata": {},
   "outputs": [
    {
     "name": "stdout",
     "output_type": "stream",
     "text": [
      "507214\n"
     ]
    }
   ],
   "source": [
    "with open('day03_input.txt', 'r') as f:\n",
    "    file = f.read()\n",
    "    print(get_schematic_sum(file))"
   ]
  },
  {
   "cell_type": "markdown",
   "metadata": {},
   "source": [
    "PART 2"
   ]
  },
  {
   "cell_type": "code",
   "execution_count": 99,
   "metadata": {},
   "outputs": [
    {
     "data": {
      "text/plain": [
       "467835"
      ]
     },
     "execution_count": 99,
     "metadata": {},
     "output_type": "execute_result"
    }
   ],
   "source": [
    "def get_gear_sum(input: str) -> int:\n",
    "    input = input.split('\\n')\n",
    "    total = 0\n",
    "    for i, j in enumerate(input):\n",
    "        for gear in re.finditer(r\"\\*\", j):\n",
    "            digits = []\n",
    "            gear_pos = gear.span()[0]\n",
    "            \n",
    "            # Add same row digits touching the gear\n",
    "            for digit in re.finditer(r\"\\d+\", j):\n",
    "                s = digit.span()\n",
    "                if s[0]==gear_pos+1 or s[1]==gear_pos:\n",
    "                    digits.append(int(digit.group()))\n",
    "                \n",
    "            # Add digits from above/below\n",
    "            rows_above_below = []\n",
    "            if i >= 1:\n",
    "                rows_above_below.append(input[i-1])\n",
    "            if i+1 < len(input):\n",
    "                rows_above_below.append(input[i+1])\n",
    "\n",
    "            for row in rows_above_below:\n",
    "                for digit in re.finditer(r\"\\d+\", row):\n",
    "                    s = digit.span()\n",
    "                    if gear_pos in range(s[0]-1, s[1]+1):\n",
    "                        digits.append(int(digit.group()))\n",
    "\n",
    "            if len(digits) != 2:\n",
    "                continue\n",
    "            total += digits[0] * digits[1]\n",
    "    return total\n",
    "\n",
    "inp = \"\"\"467..114..\n",
    "...*......\n",
    "..35..633.\n",
    "......#...\n",
    "617*......\n",
    ".....+.58.\n",
    "..592.....\n",
    "......755.\n",
    "...$.*....\n",
    ".664.598..\"\"\"\n",
    "\n",
    "get_gear_sum(inp)"
   ]
  },
  {
   "cell_type": "code",
   "execution_count": 100,
   "metadata": {},
   "outputs": [
    {
     "name": "stdout",
     "output_type": "stream",
     "text": [
      "72553319\n"
     ]
    }
   ],
   "source": [
    "with open('day03_input.txt', 'r') as f:\n",
    "    file = f.read()\n",
    "    print(get_gear_sum(file))"
   ]
  },
  {
   "cell_type": "markdown",
   "metadata": {},
   "source": [
    "LEARNINGS:\n",
    "\n",
    "- Have the flags/counters reset appropriately\n",
    "  - Digits should have been per gear, not per row. Single row can have many gears\n",
    "- Seems like index lookahead/behind needs min(), max() or conditionals inevitably, else either left wrapping or oob error occurs"
   ]
  },
  {
   "cell_type": "code",
   "execution_count": null,
   "metadata": {},
   "outputs": [],
   "source": []
  }
 ],
 "metadata": {
  "kernelspec": {
   "display_name": "scraping",
   "language": "python",
   "name": "python3"
  },
  "language_info": {
   "codemirror_mode": {
    "name": "ipython",
    "version": 3
   },
   "file_extension": ".py",
   "mimetype": "text/x-python",
   "name": "python",
   "nbconvert_exporter": "python",
   "pygments_lexer": "ipython3",
   "version": "3.11.5"
  }
 },
 "nbformat": 4,
 "nbformat_minor": 2
}
