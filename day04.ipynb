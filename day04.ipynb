{
 "cells": [
  {
   "cell_type": "markdown",
   "metadata": {},
   "source": [
    "PART 1"
   ]
  },
  {
   "cell_type": "code",
   "execution_count": 1,
   "metadata": {},
   "outputs": [],
   "source": [
    "import re\n",
    "\n",
    "\n",
    "def score_all_cards(input: str) -> int:\n",
    "    cards, n_picks = preprocess_input(input)\n",
    "    scores = [score_card(card, n_picks) for card in cards]\n",
    "    return sum(scores)\n",
    "\n",
    "def preprocess_input(input):\n",
    "    cards = [row.split(\": \")[-1] for row in input.split(\"\\n\")]\n",
    "    n_picks = len(re.findall(r\"\\d+\", cards[0].split(\" | \")[0]))\n",
    "    cards = [list(map(int, re.findall(r\"\\d+\", card))) for card in cards]    \n",
    "    return cards,n_picks\n",
    "\n",
    "def score_card(card: list[int], n_entries: int) -> int:\n",
    "    overlaps = get_overlaps(card, n_entries)\n",
    "    if not overlaps:\n",
    "        return 0\n",
    "    return 2 ** (len(overlaps)-1)\n",
    "\n",
    "def get_overlaps(card, n_entries):\n",
    "    overlaps = set(card[:n_entries]).intersection(set(card[n_entries:]))\n",
    "    return overlaps"
   ]
  },
  {
   "cell_type": "code",
   "execution_count": 2,
   "metadata": {},
   "outputs": [
    {
     "name": "stdout",
     "output_type": "stream",
     "text": [
      "21088\n"
     ]
    }
   ],
   "source": [
    "with open('day04_input.txt', 'r') as f:\n",
    "    file = f.read()\n",
    "    print(score_all_cards(file))"
   ]
  },
  {
   "cell_type": "markdown",
   "metadata": {},
   "source": [
    "PART 2"
   ]
  },
  {
   "cell_type": "code",
   "execution_count": 3,
   "metadata": {},
   "outputs": [],
   "source": [
    "def get_copies_won(cards: list[list[str]], n_picks: int) -> list[int]:\n",
    "    res = [len(get_overlaps(card, n_picks)) for card in cards]\n",
    "    res = [min(j, len(res)-i-1) for i, j in enumerate(res)]\n",
    "    return res\n",
    "\n",
    "\n",
    "def get_total_cards_won(copies_won: list[int], span) -> int:\n",
    "    cards_total = sum(copies_won[span[0]:span[1]])\n",
    "    for i, j in enumerate(range(span[0], span[1])):\n",
    "        s1 = span[0] + i + 1      \n",
    "        s2 = s1 + copies_won[j]    \n",
    "        s2 = min(len(copies_won), s2)\n",
    "        cards_total+= get_total_cards_won(copies_won, (s1, s2))\n",
    "    return cards_total\n",
    "    "
   ]
  },
  {
   "cell_type": "code",
   "execution_count": 7,
   "metadata": {},
   "outputs": [
    {
     "name": "stdout",
     "output_type": "stream",
     "text": [
      "6874754\n"
     ]
    }
   ],
   "source": [
    "with open('day04_input.txt', 'r') as f:\n",
    "    file = f.read()\n",
    "\n",
    "    p, n = preprocess_input(file)\n",
    "    c = get_copies_won(p, n)\n",
    "    print(get_total_cards_won(c, (0, len(c))) + len(c))"
   ]
  },
  {
   "cell_type": "code",
   "execution_count": null,
   "metadata": {},
   "outputs": [],
   "source": []
  }
 ],
 "metadata": {
  "kernelspec": {
   "display_name": "scraping",
   "language": "python",
   "name": "python3"
  },
  "language_info": {
   "codemirror_mode": {
    "name": "ipython",
    "version": 3
   },
   "file_extension": ".py",
   "mimetype": "text/x-python",
   "name": "python",
   "nbconvert_exporter": "python",
   "pygments_lexer": "ipython3",
   "version": "3.11.5"
  }
 },
 "nbformat": 4,
 "nbformat_minor": 2
}
