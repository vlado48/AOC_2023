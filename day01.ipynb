{
 "cells": [
  {
   "cell_type": "markdown",
   "metadata": {},
   "source": [
    "PART 1"
   ]
  },
  {
   "cell_type": "code",
   "execution_count": 9,
   "metadata": {},
   "outputs": [],
   "source": [
    "def get_calibration_code(doc: str) -> int:\n",
    "    num_lines = [[i for i in line if i.isnumeric()] for line in doc.split('\\n')]\n",
    "    nums = [int(line[0] + line[-1]) for line in num_lines]\n",
    "    return sum(nums)"
   ]
  },
  {
   "cell_type": "code",
   "execution_count": 10,
   "metadata": {},
   "outputs": [
    {
     "name": "stdout",
     "output_type": "stream",
     "text": [
      "55386\n"
     ]
    }
   ],
   "source": [
    "with open('day01_input.txt', 'r') as f:\n",
    "    file = f.read()\n",
    "    print(get_calibration_code(file))"
   ]
  },
  {
   "cell_type": "markdown",
   "metadata": {},
   "source": [
    "PART 2"
   ]
  },
  {
   "cell_type": "code",
   "execution_count": 49,
   "metadata": {},
   "outputs": [],
   "source": [
    "import re\n",
    "\n",
    "def numerizer(text: str) -> list[int]:\n",
    "    words_str = ['zero_placeholder', 'one', 'two', 'three', 'four', 'five', 'six', 'seven', 'eight', 'nine']\n",
    "    digits_str = ['0', '1', '2', '3', '4', '5', '6', '7', '8', '9']\n",
    "    digits = re.findall(f'(?=({\"|\".join(digits_str + words_str)}))', text)\n",
    "    return [str(words_str.index(i)) if i in words_str else i for i in digits]\n",
    "\n",
    "def get_calibration_code(doc: str) -> int:\n",
    "    num_lines = [numerizer(line) for line in doc.split('\\n')]\n",
    "    nums = [int(line[0] + line[-1]) for line in num_lines]\n",
    "    return sum(nums)"
   ]
  },
  {
   "cell_type": "code",
   "execution_count": 51,
   "metadata": {},
   "outputs": [
    {
     "name": "stdout",
     "output_type": "stream",
     "text": [
      "54824\n"
     ]
    }
   ],
   "source": [
    "with open('day01_input.txt', 'r') as f:\n",
    "    file = f.read()\n",
    "    print(get_calibration_code(file))"
   ]
  },
  {
   "cell_type": "markdown",
   "metadata": {},
   "source": [
    "Learnings:\n",
    "- Matching overlapping string in regex was annoying!\n",
    "- Learned about [zero-width assertions](https://www.regular-expressions.info/lookaround.html)"
   ]
  },
  {
   "cell_type": "code",
   "execution_count": null,
   "metadata": {},
   "outputs": [],
   "source": []
  }
 ],
 "metadata": {
  "kernelspec": {
   "display_name": "finoptics7",
   "language": "python",
   "name": "python3"
  },
  "language_info": {
   "codemirror_mode": {
    "name": "ipython",
    "version": 3
   },
   "file_extension": ".py",
   "mimetype": "text/x-python",
   "name": "python",
   "nbconvert_exporter": "python",
   "pygments_lexer": "ipython3",
   "version": "3.11.5"
  }
 },
 "nbformat": 4,
 "nbformat_minor": 2
}
